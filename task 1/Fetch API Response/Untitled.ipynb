{
 "cells": [
  {
   "cell_type": "code",
   "execution_count": 1,
   "id": "5f4057d0",
   "metadata": {},
   "outputs": [],
   "source": [
    "import requests\n"
   ]
  },
  {
   "cell_type": "code",
   "execution_count": 2,
   "id": "89327503",
   "metadata": {},
   "outputs": [],
   "source": [
    "token='d7c01847de4c083cb154e9a533294301e9f05f93dbae7d589e42ece63226c0a3'\n",
    "url='https://gorest.co.in/public/v1/users'\n"
   ]
  },
  {
   "cell_type": "code",
   "execution_count": 3,
   "id": "6d7bcd0f",
   "metadata": {},
   "outputs": [],
   "source": [
    "header={'Authorization': 'access_token myToken'}"
   ]
  },
  {
   "cell_type": "code",
   "execution_count": 5,
   "id": "732fcd46",
   "metadata": {},
   "outputs": [],
   "source": [
    "response=requests.get(url,headers=header)"
   ]
  },
  {
   "cell_type": "code",
   "execution_count": 6,
   "id": "aaea48e0",
   "metadata": {},
   "outputs": [
    {
     "data": {
      "text/plain": [
       "<Response [200]>"
      ]
     },
     "execution_count": 6,
     "metadata": {},
     "output_type": "execute_result"
    }
   ],
   "source": [
    "response"
   ]
  },
  {
   "cell_type": "code",
   "execution_count": 8,
   "id": "7a6b06eb",
   "metadata": {},
   "outputs": [],
   "source": [
    "users=response.json()"
   ]
  },
  {
   "cell_type": "code",
   "execution_count": 9,
   "id": "2f33a674",
   "metadata": {},
   "outputs": [
    {
     "data": {
      "text/plain": [
       "{'meta': {'pagination': {'total': 1447,\n",
       "   'pages': 73,\n",
       "   'page': 1,\n",
       "   'limit': 20,\n",
       "   'links': {'previous': None,\n",
       "    'current': 'https://gorest.co.in/public/v1/users?page=1',\n",
       "    'next': 'https://gorest.co.in/public/v1/users?page=2'}}},\n",
       " 'data': [{'id': 1466,\n",
       "   'name': 'Rohan Nayar',\n",
       "   'email': 'rohan_nayar@nader-block.com',\n",
       "   'gender': 'female',\n",
       "   'status': 'active'},\n",
       "  {'id': 1465,\n",
       "   'name': 'The Hon. Shubha Gowda',\n",
       "   'email': 'shubha_the_hon_gowda@koss.co',\n",
       "   'gender': 'female',\n",
       "   'status': 'inactive'},\n",
       "  {'id': 1464,\n",
       "   'name': 'Abani Nambeesan',\n",
       "   'email': 'nambeesan_abani@anderson.info',\n",
       "   'gender': 'female',\n",
       "   'status': 'inactive'},\n",
       "  {'id': 1463,\n",
       "   'name': 'Rep. Ramesh Nambeesan',\n",
       "   'email': 'nambeesan_rep_ramesh@mertz.biz',\n",
       "   'gender': 'male',\n",
       "   'status': 'inactive'},\n",
       "  {'id': 1462,\n",
       "   'name': 'Abani Bharadwaj DVM',\n",
       "   'email': 'abani_bharadwaj_dvm@wisozk-kautzer.com',\n",
       "   'gender': 'female',\n",
       "   'status': 'active'},\n",
       "  {'id': 1461,\n",
       "   'name': 'Javas Nehru',\n",
       "   'email': 'javas_nehru@torp-crist.name',\n",
       "   'gender': 'male',\n",
       "   'status': 'active'},\n",
       "  {'id': 1460,\n",
       "   'name': 'Lai Menon DDS',\n",
       "   'email': 'dds_lai_menon@tremblay.com',\n",
       "   'gender': 'male',\n",
       "   'status': 'active'},\n",
       "  {'id': 1459,\n",
       "   'name': 'Hiranmay Abbott Esq.',\n",
       "   'email': 'abbott_hiranmay_esq@daugherty.co',\n",
       "   'gender': 'male',\n",
       "   'status': 'inactive'},\n",
       "  {'id': 1458,\n",
       "   'name': 'Ms. Devi Malik',\n",
       "   'email': 'ms_devi_malik@huels.info',\n",
       "   'gender': 'male',\n",
       "   'status': 'active'},\n",
       "  {'id': 1457,\n",
       "   'name': 'Daevi Pilla Ret.',\n",
       "   'email': 'pilla_daevi_ret@jerde.info',\n",
       "   'gender': 'male',\n",
       "   'status': 'inactive'},\n",
       "  {'id': 1456,\n",
       "   'name': 'Dr. Amish Desai',\n",
       "   'email': 'amish_desai_dr@sawayn-auer.com',\n",
       "   'gender': 'female',\n",
       "   'status': 'active'},\n",
       "  {'id': 1455,\n",
       "   'name': 'Abhirath Dutta',\n",
       "   'email': 'abhirath_dutta@mayert.com',\n",
       "   'gender': 'female',\n",
       "   'status': 'active'},\n",
       "  {'id': 1454,\n",
       "   'name': 'Chapal Kakkar',\n",
       "   'email': 'kakkar_chapal@considine-parker.com',\n",
       "   'gender': 'female',\n",
       "   'status': 'active'},\n",
       "  {'id': 1453,\n",
       "   'name': 'Kamala Reddy',\n",
       "   'email': 'kamala_reddy@rodriguez.biz',\n",
       "   'gender': 'male',\n",
       "   'status': 'active'},\n",
       "  {'id': 1452,\n",
       "   'name': 'Aasha Acharya',\n",
       "   'email': 'aasha_acharya@halvorson.name',\n",
       "   'gender': 'female',\n",
       "   'status': 'active'},\n",
       "  {'id': 1451,\n",
       "   'name': 'Balagovind Nehru',\n",
       "   'email': 'balagovind_nehru@jast.info',\n",
       "   'gender': 'female',\n",
       "   'status': 'inactive'},\n",
       "  {'id': 1450,\n",
       "   'name': 'Dr. Subhashini Somayaji',\n",
       "   'email': 'dr_subhashini_somayaji@aufderhar.com',\n",
       "   'gender': 'male',\n",
       "   'status': 'inactive'},\n",
       "  {'id': 1449,\n",
       "   'name': 'Mayoor Desai',\n",
       "   'email': 'desai_mayoor@franecki.biz',\n",
       "   'gender': 'female',\n",
       "   'status': 'inactive'},\n",
       "  {'id': 1448,\n",
       "   'name': 'Anasuya Rana',\n",
       "   'email': 'rana_anasuya@adams.org',\n",
       "   'gender': 'male',\n",
       "   'status': 'inactive'},\n",
       "  {'id': 1447,\n",
       "   'name': 'Bhadraksh Bharadwaj',\n",
       "   'email': 'bharadwaj_bhadraksh@hilll.com',\n",
       "   'gender': 'female',\n",
       "   'status': 'active'}]}"
      ]
     },
     "execution_count": 9,
     "metadata": {},
     "output_type": "execute_result"
    }
   ],
   "source": [
    "users"
   ]
  },
  {
   "cell_type": "code",
   "execution_count": null,
   "id": "e0ca1fa2",
   "metadata": {},
   "outputs": [],
   "source": []
  }
 ],
 "metadata": {
  "kernelspec": {
   "display_name": "Python 3 (ipykernel)",
   "language": "python",
   "name": "python3"
  },
  "language_info": {
   "codemirror_mode": {
    "name": "ipython",
    "version": 3
   },
   "file_extension": ".py",
   "mimetype": "text/x-python",
   "name": "python",
   "nbconvert_exporter": "python",
   "pygments_lexer": "ipython3",
   "version": "3.9.7"
  }
 },
 "nbformat": 4,
 "nbformat_minor": 5
}
